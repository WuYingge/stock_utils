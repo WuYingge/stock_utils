{
 "metadata": {
  "language_info": {
   "codemirror_mode": {
    "name": "ipython",
    "version": 3
   },
   "file_extension": ".py",
   "mimetype": "text/x-python",
   "name": "python",
   "nbconvert_exporter": "python",
   "pygments_lexer": "ipython3",
   "version": "3.9.1"
  },
  "orig_nbformat": 4,
  "kernelspec": {
   "name": "python3",
   "display_name": "Python 3.9.1 64-bit ('aitraining': conda)"
  },
  "interpreter": {
   "hash": "967cab8bcc1204e0c7cac99382a7aa68ee27561a9c56cb4f471c729dd1edbdc6"
  }
 },
 "nbformat": 4,
 "nbformat_minor": 2,
 "cells": [
  {
   "cell_type": "code",
   "execution_count": 1,
   "metadata": {},
   "outputs": [],
   "source": [
    "import os, sys"
   ]
  },
  {
   "cell_type": "code",
   "execution_count": 2,
   "metadata": {},
   "outputs": [],
   "source": [
    "path = os.getcwd()"
   ]
  },
  {
   "cell_type": "code",
   "execution_count": 3,
   "metadata": {},
   "outputs": [],
   "source": [
    "path = os.path.dirname(path)"
   ]
  },
  {
   "cell_type": "code",
   "execution_count": 4,
   "metadata": {},
   "outputs": [],
   "source": [
    "os.chdir(path)"
   ]
  },
  {
   "cell_type": "code",
   "execution_count": 5,
   "metadata": {},
   "outputs": [],
   "source": [
    "from month_count.utils import chrome_factory"
   ]
  },
  {
   "cell_type": "code",
   "execution_count": 90,
   "metadata": {},
   "outputs": [],
   "source": [
    "web, wait = chrome_factory(headless=False)"
   ]
  },
  {
   "cell_type": "code",
   "execution_count": 91,
   "metadata": {},
   "outputs": [],
   "source": [
    "from datetime import datetime ,timedelta"
   ]
  },
  {
   "cell_type": "code",
   "execution_count": 92,
   "metadata": {},
   "outputs": [],
   "source": [
    "now = datetime.utcnow() + timedelta(hours=8)"
   ]
  },
  {
   "cell_type": "code",
   "execution_count": 93,
   "metadata": {},
   "outputs": [],
   "source": [
    "farest_date = now - timedelta(days=30)"
   ]
  },
  {
   "cell_type": "code",
   "execution_count": 94,
   "metadata": {},
   "outputs": [],
   "source": [
    "import pandas as pd"
   ]
  },
  {
   "cell_type": "code",
   "execution_count": 95,
   "metadata": {},
   "outputs": [],
   "source": [
    "web.implicitly_wait(20)\n"
   ]
  },
  {
   "cell_type": "code",
   "execution_count": 96,
   "metadata": {},
   "outputs": [],
   "source": [
    "from collections import Counter\n",
    "symbol_list = []\n",
    "symbol_company_mapper = {}\n",
    "all_trs = []\n",
    "table = web.find_element_by_css_selector('#stock_table .table-model')\n",
    "trs = table.find_elements_by_tag_name('tr')\n",
    "time = trs[-1].find_element_by_css_selector('td:nth-child(15)').text\n",
    "time = datetime.strptime(time, '%Y-%m-%d')\n",
    "all_trs.append(trs)\n",
    "while time >= farest_date:\n",
    "    next_page = web.find_element_by_css_selector('#stock_table_pager > div.pagerbox > a:nth-child(8)')\n",
    "    next_page.click()\n",
    "    table = web.find_element_by_css_selector('#stock_table .table-model')\n",
    "    trs = table.find_elements_by_tag_name('tr')\n",
    "    all_trs.append(trs)\n",
    "    time = trs[-1].find_element_by_css_selector('td:nth-child(15)').text\n",
    "    time = datetime.strptime(time, '%Y-%m-%d')\n",
    "for tr in trs:\n",
    "    if '详细  股吧' not in tr.text:\n",
    "        continue\n",
    "    time = tr.find_element_by_css_selector('td:nth-child(15)').text\n",
    "    time = datetime.strptime(time, '%Y-%m-%d')\n",
    "    if time >= farest_date:\n",
    "        symbol = tr.find_element_by_css_selector('td:nth-child(2)').text\n",
    "        symbol_list.append(symbol)\n",
    "        symbol_company_mapper.update(\n",
    "            {symbol: tr.find_element_by_css_selector('td:nth-child(3)').text}\n",
    "        )\n",
    "    "
   ]
  },
  {
   "cell_type": "code",
   "execution_count": 97,
   "metadata": {},
   "outputs": [],
   "source": [
    "counter = Counter(symbol_list)"
   ]
  },
  {
   "cell_type": "code",
   "execution_count": 98,
   "metadata": {},
   "outputs": [
    {
     "output_type": "execute_result",
     "data": {
      "text/plain": [
       "Counter()"
      ]
     },
     "metadata": {},
     "execution_count": 98
    }
   ],
   "source": [
    "counter"
   ]
  },
  {
   "cell_type": "code",
   "execution_count": null,
   "metadata": {},
   "outputs": [],
   "source": []
  }
 ]
}